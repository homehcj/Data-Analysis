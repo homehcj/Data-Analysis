{
 "cells": [
  {
   "attachments": {},
   "cell_type": "markdown",
   "metadata": {},
   "source": [
    "# Titanic数据集"
   ]
  },
  {
   "attachments": {},
   "cell_type": "markdown",
   "metadata": {},
   "source": [
    "### 数据字典\n",
    "#### 变量            定义            键。\n",
    "+ survival        生存            0=否，1=是。\n",
    "+ pclass          车票            1=1，2=2，3=3。\n",
    "+ sex             性别\n",
    "+ Age         年龄(以年为单位)\n",
    "+ sibsp   泰坦尼克号上的兄弟姐妹/配偶#\n",
    "+ parch   在泰坦尼克号上的父母/孩子们\n",
    "+ ticket          车票号码\n",
    "+ fare            票价乘客票价\n",
    "+ cabin           客舱编号\n",
    "+ embarked        登陆港          C=瑟堡，Q=皇后镇，S=南安普敦。\n",
    ">\n",
    ">\n",
    "+ 注释\n",
    "  + PCLASS：社会经济地位的代表(SES)\n",
    "    + 第1个=上\n",
    "    + 第2个=中\n",
    "    + 第3个=更低\n",
    "\n",
    "+ 年龄：\n",
    "    + 小于1的年龄是小数。如果是估计的年龄，是否以xx.5的形式表示。\n",
    "\n",
    "+ SIBSP：\n",
    "    + 数据集以这种方式定义家庭关系……。\n",
    "    + 兄弟姐妹=兄弟、姐妹、继兄弟、继姐妹。\n",
    "    + 配偶=丈夫、妻子(情妇和未婚夫被忽略)。\n",
    "\n",
    "+ Parch：数据集以这种方式定义家庭关系……。\n",
    "    + 父母=母亲，父亲。\n",
    "    + 孩子=女儿、儿子、继女、继子。\n",
    "    + 一些孩子只和保姆一起旅行，因此对他们来说，parch=0。"
   ]
  },
  {
   "attachments": {},
   "cell_type": "markdown",
   "metadata": {},
   "source": [
    "### 读取数据"
   ]
  },
  {
   "cell_type": "code",
   "execution_count": 89,
   "metadata": {},
   "outputs": [
    {
     "data": {
      "text/html": [
       "<div>\n",
       "<style scoped>\n",
       "    .dataframe tbody tr th:only-of-type {\n",
       "        vertical-align: middle;\n",
       "    }\n",
       "\n",
       "    .dataframe tbody tr th {\n",
       "        vertical-align: top;\n",
       "    }\n",
       "\n",
       "    .dataframe thead th {\n",
       "        text-align: right;\n",
       "    }\n",
       "</style>\n",
       "<table border=\"1\" class=\"dataframe\">\n",
       "  <thead>\n",
       "    <tr style=\"text-align: right;\">\n",
       "      <th></th>\n",
       "      <th>PassengerId</th>\n",
       "      <th>Survived</th>\n",
       "      <th>Pclass</th>\n",
       "      <th>Name</th>\n",
       "      <th>Sex</th>\n",
       "      <th>Age</th>\n",
       "      <th>SibSp</th>\n",
       "      <th>Parch</th>\n",
       "      <th>Ticket</th>\n",
       "      <th>Fare</th>\n",
       "      <th>Cabin</th>\n",
       "      <th>Embarked</th>\n",
       "    </tr>\n",
       "  </thead>\n",
       "  <tbody>\n",
       "    <tr>\n",
       "      <th>0</th>\n",
       "      <td>1</td>\n",
       "      <td>0</td>\n",
       "      <td>3</td>\n",
       "      <td>Braund, Mr. Owen Harris</td>\n",
       "      <td>male</td>\n",
       "      <td>22.0</td>\n",
       "      <td>1</td>\n",
       "      <td>0</td>\n",
       "      <td>A/5 21171</td>\n",
       "      <td>7.2500</td>\n",
       "      <td>NaN</td>\n",
       "      <td>S</td>\n",
       "    </tr>\n",
       "    <tr>\n",
       "      <th>1</th>\n",
       "      <td>2</td>\n",
       "      <td>1</td>\n",
       "      <td>1</td>\n",
       "      <td>Cumings, Mrs. John Bradley (Florence Briggs Th...</td>\n",
       "      <td>female</td>\n",
       "      <td>38.0</td>\n",
       "      <td>1</td>\n",
       "      <td>0</td>\n",
       "      <td>PC 17599</td>\n",
       "      <td>71.2833</td>\n",
       "      <td>C85</td>\n",
       "      <td>C</td>\n",
       "    </tr>\n",
       "    <tr>\n",
       "      <th>2</th>\n",
       "      <td>3</td>\n",
       "      <td>1</td>\n",
       "      <td>3</td>\n",
       "      <td>Heikkinen, Miss. Laina</td>\n",
       "      <td>female</td>\n",
       "      <td>26.0</td>\n",
       "      <td>0</td>\n",
       "      <td>0</td>\n",
       "      <td>STON/O2. 3101282</td>\n",
       "      <td>7.9250</td>\n",
       "      <td>NaN</td>\n",
       "      <td>S</td>\n",
       "    </tr>\n",
       "    <tr>\n",
       "      <th>3</th>\n",
       "      <td>4</td>\n",
       "      <td>1</td>\n",
       "      <td>1</td>\n",
       "      <td>Futrelle, Mrs. Jacques Heath (Lily May Peel)</td>\n",
       "      <td>female</td>\n",
       "      <td>35.0</td>\n",
       "      <td>1</td>\n",
       "      <td>0</td>\n",
       "      <td>113803</td>\n",
       "      <td>53.1000</td>\n",
       "      <td>C123</td>\n",
       "      <td>S</td>\n",
       "    </tr>\n",
       "    <tr>\n",
       "      <th>4</th>\n",
       "      <td>5</td>\n",
       "      <td>0</td>\n",
       "      <td>3</td>\n",
       "      <td>Allen, Mr. William Henry</td>\n",
       "      <td>male</td>\n",
       "      <td>35.0</td>\n",
       "      <td>0</td>\n",
       "      <td>0</td>\n",
       "      <td>373450</td>\n",
       "      <td>8.0500</td>\n",
       "      <td>NaN</td>\n",
       "      <td>S</td>\n",
       "    </tr>\n",
       "    <tr>\n",
       "      <th>...</th>\n",
       "      <td>...</td>\n",
       "      <td>...</td>\n",
       "      <td>...</td>\n",
       "      <td>...</td>\n",
       "      <td>...</td>\n",
       "      <td>...</td>\n",
       "      <td>...</td>\n",
       "      <td>...</td>\n",
       "      <td>...</td>\n",
       "      <td>...</td>\n",
       "      <td>...</td>\n",
       "      <td>...</td>\n",
       "    </tr>\n",
       "    <tr>\n",
       "      <th>886</th>\n",
       "      <td>887</td>\n",
       "      <td>0</td>\n",
       "      <td>2</td>\n",
       "      <td>Montvila, Rev. Juozas</td>\n",
       "      <td>male</td>\n",
       "      <td>27.0</td>\n",
       "      <td>0</td>\n",
       "      <td>0</td>\n",
       "      <td>211536</td>\n",
       "      <td>13.0000</td>\n",
       "      <td>NaN</td>\n",
       "      <td>S</td>\n",
       "    </tr>\n",
       "    <tr>\n",
       "      <th>887</th>\n",
       "      <td>888</td>\n",
       "      <td>1</td>\n",
       "      <td>1</td>\n",
       "      <td>Graham, Miss. Margaret Edith</td>\n",
       "      <td>female</td>\n",
       "      <td>19.0</td>\n",
       "      <td>0</td>\n",
       "      <td>0</td>\n",
       "      <td>112053</td>\n",
       "      <td>30.0000</td>\n",
       "      <td>B42</td>\n",
       "      <td>S</td>\n",
       "    </tr>\n",
       "    <tr>\n",
       "      <th>888</th>\n",
       "      <td>889</td>\n",
       "      <td>0</td>\n",
       "      <td>3</td>\n",
       "      <td>Johnston, Miss. Catherine Helen \"Carrie\"</td>\n",
       "      <td>female</td>\n",
       "      <td>NaN</td>\n",
       "      <td>1</td>\n",
       "      <td>2</td>\n",
       "      <td>W./C. 6607</td>\n",
       "      <td>23.4500</td>\n",
       "      <td>NaN</td>\n",
       "      <td>S</td>\n",
       "    </tr>\n",
       "    <tr>\n",
       "      <th>889</th>\n",
       "      <td>890</td>\n",
       "      <td>1</td>\n",
       "      <td>1</td>\n",
       "      <td>Behr, Mr. Karl Howell</td>\n",
       "      <td>male</td>\n",
       "      <td>26.0</td>\n",
       "      <td>0</td>\n",
       "      <td>0</td>\n",
       "      <td>111369</td>\n",
       "      <td>30.0000</td>\n",
       "      <td>C148</td>\n",
       "      <td>C</td>\n",
       "    </tr>\n",
       "    <tr>\n",
       "      <th>890</th>\n",
       "      <td>891</td>\n",
       "      <td>0</td>\n",
       "      <td>3</td>\n",
       "      <td>Dooley, Mr. Patrick</td>\n",
       "      <td>male</td>\n",
       "      <td>32.0</td>\n",
       "      <td>0</td>\n",
       "      <td>0</td>\n",
       "      <td>370376</td>\n",
       "      <td>7.7500</td>\n",
       "      <td>NaN</td>\n",
       "      <td>Q</td>\n",
       "    </tr>\n",
       "  </tbody>\n",
       "</table>\n",
       "<p>891 rows × 12 columns</p>\n",
       "</div>"
      ],
      "text/plain": [
       "     PassengerId  Survived  Pclass  \\\n",
       "0              1         0       3   \n",
       "1              2         1       1   \n",
       "2              3         1       3   \n",
       "3              4         1       1   \n",
       "4              5         0       3   \n",
       "..           ...       ...     ...   \n",
       "886          887         0       2   \n",
       "887          888         1       1   \n",
       "888          889         0       3   \n",
       "889          890         1       1   \n",
       "890          891         0       3   \n",
       "\n",
       "                                                  Name     Sex   Age  SibSp  \\\n",
       "0                              Braund, Mr. Owen Harris    male  22.0      1   \n",
       "1    Cumings, Mrs. John Bradley (Florence Briggs Th...  female  38.0      1   \n",
       "2                               Heikkinen, Miss. Laina  female  26.0      0   \n",
       "3         Futrelle, Mrs. Jacques Heath (Lily May Peel)  female  35.0      1   \n",
       "4                             Allen, Mr. William Henry    male  35.0      0   \n",
       "..                                                 ...     ...   ...    ...   \n",
       "886                              Montvila, Rev. Juozas    male  27.0      0   \n",
       "887                       Graham, Miss. Margaret Edith  female  19.0      0   \n",
       "888           Johnston, Miss. Catherine Helen \"Carrie\"  female   NaN      1   \n",
       "889                              Behr, Mr. Karl Howell    male  26.0      0   \n",
       "890                                Dooley, Mr. Patrick    male  32.0      0   \n",
       "\n",
       "     Parch            Ticket     Fare Cabin Embarked  \n",
       "0        0         A/5 21171   7.2500   NaN        S  \n",
       "1        0          PC 17599  71.2833   C85        C  \n",
       "2        0  STON/O2. 3101282   7.9250   NaN        S  \n",
       "3        0            113803  53.1000  C123        S  \n",
       "4        0            373450   8.0500   NaN        S  \n",
       "..     ...               ...      ...   ...      ...  \n",
       "886      0            211536  13.0000   NaN        S  \n",
       "887      0            112053  30.0000   B42        S  \n",
       "888      2        W./C. 6607  23.4500   NaN        S  \n",
       "889      0            111369  30.0000  C148        C  \n",
       "890      0            370376   7.7500   NaN        Q  \n",
       "\n",
       "[891 rows x 12 columns]"
      ]
     },
     "execution_count": 89,
     "metadata": {},
     "output_type": "execute_result"
    }
   ],
   "source": [
    "import pandas as pd\n",
    "train_data=pd.read_csv('data/titanic/train.csv',sep=',')\n",
    "train_data"
   ]
  },
  {
   "attachments": {},
   "cell_type": "markdown",
   "metadata": {},
   "source": [
    "### 清洗数据归一化"
   ]
  },
  {
   "cell_type": "code",
   "execution_count": 90,
   "metadata": {},
   "outputs": [
    {
     "data": {
      "text/plain": [
       "(800, 7, 91, 7)"
      ]
     },
     "execution_count": 90,
     "metadata": {},
     "output_type": "execute_result"
    }
   ],
   "source": [
    "import numpy as np\n",
    "import torch\n",
    "PassengerId=np.array(train_data['PassengerId'])\n",
    "Pclass=np.array(train_data['Pclass']/3)\n",
    "Sex=np.array(np.asarray(pd.get_dummies(pd.Categorical(train_data['Sex']).codes), dtype=np.int8))\n",
    "#数据Age均数为27\n",
    "Age=np.nan_to_num(np.array(train_data['Age']/100),nan=0.27)\n",
    "SibSp=np.array(train_data['SibSp']/10)\n",
    "Parch=np.array(train_data['Parch']/10)\n",
    "Fare=np.array(train_data['Fare']/1000)\n",
    "#Cabin\n",
    "Survived=np.array(np.asarray(pd.get_dummies(train_data['Survived']), dtype=np.int8))\n",
    "\n",
    "train_data=(torch.Tensor([Pclass[0:800],Sex[0:800,0],Sex[0:800,1],Age[0:800],SibSp[0:800],Parch[0:800]\n",
    "                              ,Fare[0:800]]).T,torch.Tensor(Survived[0:800]))\n",
    "experimental_data=(torch.Tensor([Pclass[800:],Sex[800:,0],Sex[800:,1],Age[800:],SibSp[800:],Parch[800:]\n",
    "                              ,Fare[800:]]).T,torch.Tensor(Survived[800:]))\n",
    "len(train_data[0]),len(train_data[0][0]),len(experimental_data[0]),len(experimental_data[0][0])"
   ]
  },
  {
   "attachments": {},
   "cell_type": "markdown",
   "metadata": {},
   "source": [
    "### 数据抽样"
   ]
  },
  {
   "cell_type": "code",
   "execution_count": 91,
   "metadata": {},
   "outputs": [
    {
     "data": {
      "text/plain": [
       "([tensor([[1.0000, 1.0000, 0.0000, 0.1600, 0.0000, 0.0000, 0.0077],\n",
       "          [1.0000, 0.0000, 1.0000, 0.0400, 0.3000, 0.2000, 0.0279],\n",
       "          [0.6667, 0.0000, 1.0000, 0.2100, 0.2000, 0.0000, 0.0735],\n",
       "          [1.0000, 0.0000, 1.0000, 0.4700, 0.0000, 0.0000, 0.0072],\n",
       "          [0.3333, 0.0000, 1.0000, 0.5100, 0.0000, 0.1000, 0.0614],\n",
       "          [1.0000, 0.0000, 1.0000, 0.3300, 0.0000, 0.0000, 0.0078],\n",
       "          [0.3333, 0.0000, 1.0000, 0.5000, 0.1000, 0.0000, 0.0559],\n",
       "          [0.3333, 1.0000, 0.0000, 0.5000, 0.0000, 0.0000, 0.0287],\n",
       "          [0.3333, 1.0000, 0.0000, 0.2700, 0.0000, 0.1000, 0.0550],\n",
       "          [1.0000, 0.0000, 1.0000, 0.1900, 0.0000, 0.0000, 0.0068]]),\n",
       "  tensor([[0., 1.],\n",
       "          [1., 0.],\n",
       "          [1., 0.],\n",
       "          [1., 0.],\n",
       "          [1., 0.],\n",
       "          [1., 0.],\n",
       "          [1., 0.],\n",
       "          [1., 0.],\n",
       "          [0., 1.],\n",
       "          [1., 0.]])],\n",
       " [tensor([[1.0000, 0.0000, 1.0000, 0.3050, 0.0000, 0.0000, 0.0081],\n",
       "          [1.0000, 1.0000, 0.0000, 0.1500, 0.1000, 0.0000, 0.0145],\n",
       "          [1.0000, 1.0000, 0.0000, 0.2700, 0.1000, 0.2000, 0.0235],\n",
       "          [0.3333, 0.0000, 1.0000, 0.2600, 0.0000, 0.0000, 0.0300],\n",
       "          [0.6667, 0.0000, 1.0000, 0.3500, 0.0000, 0.0000, 0.0105],\n",
       "          [0.3333, 1.0000, 0.0000, 0.1600, 0.0000, 0.1000, 0.0394],\n",
       "          [0.6667, 1.0000, 0.0000, 0.4200, 0.0000, 0.0000, 0.0130],\n",
       "          [1.0000, 0.0000, 1.0000, 0.0400, 0.4000, 0.2000, 0.0313],\n",
       "          [1.0000, 1.0000, 0.0000, 0.1800, 0.0000, 0.1000, 0.0093],\n",
       "          [0.6667, 0.0000, 1.0000, 0.2800, 0.0000, 0.1000, 0.0330]]),\n",
       "  tensor([[1., 0.],\n",
       "          [0., 1.],\n",
       "          [1., 0.],\n",
       "          [0., 1.],\n",
       "          [1., 0.],\n",
       "          [0., 1.],\n",
       "          [0., 1.],\n",
       "          [1., 0.],\n",
       "          [0., 1.],\n",
       "          [1., 0.]])])"
      ]
     },
     "execution_count": 91,
     "metadata": {},
     "output_type": "execute_result"
    }
   ],
   "source": [
    "#验证集90个\n",
    "from torch.utils import data\n",
    "train=data.DataLoader(data.TensorDataset(*train_data),10,shuffle=True)\n",
    "experimental=data.DataLoader(data.TensorDataset(*experimental_data),10,shuffle=True)\n",
    "next(iter(train)),next(iter(experimental))"
   ]
  },
  {
   "attachments": {},
   "cell_type": "markdown",
   "metadata": {},
   "source": [
    "### 建立模型\n",
    "+ 线性模型"
   ]
  },
  {
   "cell_type": "code",
   "execution_count": 92,
   "metadata": {},
   "outputs": [
    {
     "data": {
      "text/plain": [
       "Sequential(\n",
       "  (0): Linear(in_features=7, out_features=2, bias=True)\n",
       ")"
      ]
     },
     "execution_count": 92,
     "metadata": {},
     "output_type": "execute_result"
    }
   ],
   "source": [
    "#将矩阵展平输入，输出10个\n",
    "from torch import nn\n",
    "net=nn.Sequential(nn.Linear(7,2))\n",
    "def init_weight(m):\n",
    "    if type(m)==nn.Linear:\n",
    "        nn.init.normal_(m.weight,std=0.01)\n",
    "net.apply(init_weight)"
   ]
  },
  {
   "attachments": {},
   "cell_type": "markdown",
   "metadata": {},
   "source": [
    "### 损失函数"
   ]
  },
  {
   "cell_type": "code",
   "execution_count": 93,
   "metadata": {},
   "outputs": [],
   "source": [
    "loss=nn.CrossEntropyLoss(reduction=\"none\")"
   ]
  },
  {
   "attachments": {},
   "cell_type": "markdown",
   "metadata": {},
   "source": [
    "### 梯度下降"
   ]
  },
  {
   "cell_type": "code",
   "execution_count": 94,
   "metadata": {},
   "outputs": [],
   "source": [
    "### 学习率\n",
    "lr=0.1\n",
    "updater=torch.optim.SGD(net.parameters(),lr=lr)"
   ]
  },
  {
   "attachments": {},
   "cell_type": "markdown",
   "metadata": {},
   "source": [
    "## 训练"
   ]
  },
  {
   "cell_type": "code",
   "execution_count": 95,
   "metadata": {},
   "outputs": [],
   "source": [
    "#将model设置为训练模式\n",
    "if isinstance(net,torch.nn.Module):\n",
    "    net.train()\n",
    "for x,y in train:\n",
    "    #预测\n",
    "    y_guess=net(x)\n",
    "    #损失\n",
    "    l=loss(y_guess,y)\n",
    "    #使用内置优化器和损失\n",
    "    updater.zero_grad()\n",
    "    l.mean().backward()\n",
    "    updater.step()"
   ]
  },
  {
   "attachments": {},
   "cell_type": "markdown",
   "metadata": {},
   "source": [
    "## 验证"
   ]
  },
  {
   "cell_type": "code",
   "execution_count": 96,
   "metadata": {},
   "outputs": [
    {
     "name": "stdout",
     "output_type": "stream",
     "text": [
      "验证正确率 76.92308 %\n"
     ]
    }
   ],
   "source": [
    "acc=0\n",
    "allnum=0\n",
    "for x,y in experimental:\n",
    "    #print(net(x).argmax(axis=1),y.argmax(axis=1))\n",
    "    cmp= net(x).argmax(axis=1)==y.argmax(axis=1)\n",
    "    acc+=cmp.sum()\n",
    "    allnum+=len(cmp)\n",
    "print('验证正确率',np.array(acc/allnum*100),'%')  "
   ]
  },
  {
   "attachments": {},
   "cell_type": "markdown",
   "metadata": {},
   "source": [
    "## 预测"
   ]
  },
  {
   "cell_type": "code",
   "execution_count": 97,
   "metadata": {},
   "outputs": [],
   "source": [
    "test_data=pd.read_csv('data/titanic/test.csv',sep=',')"
   ]
  },
  {
   "cell_type": "code",
   "execution_count": 98,
   "metadata": {},
   "outputs": [],
   "source": [
    "PassengerId=np.array(test_data['PassengerId'])\n",
    "Pclass=np.array(test_data['Pclass']/3)\n",
    "Sex=np.array(np.asarray(pd.get_dummies(pd.Categorical(test_data['Sex']).codes), dtype=np.int8))\n",
    "#数据Age均数为27\n",
    "Age=np.nan_to_num(np.array(test_data['Age']/100),nan=0.27)\n",
    "SibSp=np.array(test_data['SibSp']/10)\n",
    "Parch=np.array(test_data['Parch']/10)\n",
    "Fare=np.array(test_data['Fare']/1000)\n",
    "#Cabin\n",
    "\n",
    "test_data=torch.Tensor([Pclass,Sex[:,0],Sex[:,1],Age,SibSp,Parch,Fare]).T"
   ]
  },
  {
   "cell_type": "code",
   "execution_count": 99,
   "metadata": {},
   "outputs": [],
   "source": [
    "with open('answer/Titanic.csv','w') as file:\n",
    "    file.write('PassengerId,Survived\\n')\n",
    "    for i in range(len(test_data)):\n",
    "        file.write(str(int(np.array(PassengerId)[i]))+','+str(np.array(net(test_data[i]).argmax(axis=0)))+'\\n')"
   ]
  }
 ],
 "metadata": {
  "kernelspec": {
   "display_name": "Python 3",
   "language": "python",
   "name": "python3"
  },
  "language_info": {
   "codemirror_mode": {
    "name": "ipython",
    "version": 3
   },
   "file_extension": ".py",
   "mimetype": "text/x-python",
   "name": "python",
   "nbconvert_exporter": "python",
   "pygments_lexer": "ipython3",
   "version": "3.9.7"
  },
  "orig_nbformat": 4
 },
 "nbformat": 4,
 "nbformat_minor": 2
}
